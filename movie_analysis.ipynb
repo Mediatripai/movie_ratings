{
 "cells": [
  {
   "cell_type": "markdown",
   "metadata": {},
   "source": [
    "Load Data into a Pandas DataFrame\n",
    "\n",
    "Here’s the Python code to load this data into a pandas DataFrame:"
   ]
  },
  {
   "cell_type": "code",
   "execution_count": 9,
   "metadata": {},
   "outputs": [
    {
     "name": "stdout",
     "output_type": "stream",
     "text": [
      "      User            Movie  Rating\n",
      "0    Alice        Inception       4\n",
      "1    Alice       The Matrix       5\n",
      "2    Alice     Interstellar       3\n",
      "3      Bob        Inception       3\n",
      "4      Bob       The Matrix       4\n",
      "5      Bob  The Dark Knight       5\n",
      "6  Charlie        Inception       2\n",
      "7  Charlie     Interstellar       4\n",
      "CSV file created successfully.\n"
     ]
    }
   ],
   "source": [
    "import pandas as pd\n",
    "\n",
    "# Load data into a pandas dataframe\n",
    "data = {\n",
    "    'User': ['Miguel', 'Miguel', 'Miguel', 'Rossel', 'Rossel', 'Rossel', 'Charlie', 'Charlie'],\n",
    "    'Movie': ['Inception', 'The Matrix', 'Interstellar', 'Inception', 'The Matrix', 'The Dark Knight', 'Inception', 'Interstellar'],\n",
    "    'Rating': [4, 5, 3, 3, 4, 5, 2, 4]\n",
    "}\n",
    "\n",
    "df = pd.DataFrame(data)\n",
    "\n",
    "# Print the dataframe\n",
    "print(df)\n",
    "\n",
    "# Save the dataframe to a CSV file\n",
    "df.to_csv('movie_ratings.csv', index=False)\n",
    "\n",
    "print(\"CSV file created successfully.\")"
   ]
  },
  {
   "cell_type": "markdown",
   "metadata": {},
   "source": [
    "Calculate Average Ratings\n",
    "\n",
    "To show the average ratings for each user and each movie:"
   ]
  },
  {
   "cell_type": "code",
   "execution_count": 10,
   "metadata": {},
   "outputs": [
    {
     "name": "stdout",
     "output_type": "stream",
     "text": [
      "      User  Average Rating\n",
      "0    Alice             4.0\n",
      "1      Bob             4.0\n",
      "2  Charlie             3.0\n",
      "             Movie  Average Rating\n",
      "0        Inception             3.0\n",
      "1     Interstellar             3.5\n",
      "2  The Dark Knight             5.0\n",
      "3       The Matrix             4.5\n"
     ]
    }
   ],
   "source": [
    "# Average ratings for each user\n",
    "user_avg = df.groupby('User')['Rating'].mean().reset_index(name='Average Rating')\n",
    "print(user_avg)\n",
    "\n",
    "# Average ratings for each movie\n",
    "movie_avg = df.groupby('Movie')['Rating'].mean().reset_index(name='Average Rating')\n",
    "print(movie_avg)"
   ]
  },
  {
   "cell_type": "markdown",
   "metadata": {},
   "source": [
    "Normalize Ratings\n",
    "\n",
    "Normalize the ratings by subtracting the mean and dividing by the standard deviation:"
   ]
  },
  {
   "cell_type": "code",
   "execution_count": 11,
   "metadata": {},
   "outputs": [
    {
     "name": "stdout",
     "output_type": "stream",
     "text": [
      "      User            Movie  Rating  Normalized Rating\n",
      "0    Alice        Inception       4           0.000000\n",
      "1    Alice       The Matrix       5           1.000000\n",
      "2    Alice     Interstellar       3          -1.000000\n",
      "3      Bob        Inception       3          -1.000000\n",
      "4      Bob       The Matrix       4           0.000000\n",
      "5      Bob  The Dark Knight       5           1.000000\n",
      "6  Charlie        Inception       2          -0.707107\n",
      "7  Charlie     Interstellar       4           0.707107\n",
      "      User  Average Normalized Rating\n",
      "0    Alice                        0.0\n",
      "1      Bob                        0.0\n",
      "2  Charlie                        0.0\n",
      "             Movie  Average Normalized Rating\n",
      "0        Inception                  -0.569036\n",
      "1     Interstellar                  -0.146447\n",
      "2  The Dark Knight                   1.000000\n",
      "3       The Matrix                   0.500000\n"
     ]
    }
   ],
   "source": [
    "# Normalize ratings for each user\n",
    "df['Normalized Rating'] = df.groupby('User')['Rating'].transform(lambda x: (x - x.mean()) / x.std())\n",
    "print(df)\n",
    "\n",
    "# New dataframe with normalized ratings\n",
    "normalized_df = df[['User', 'Movie', 'Normalized Rating']]\n",
    "\n",
    "# Average normalized ratings\n",
    "user_norm_avg = normalized_df.groupby('User')['Normalized Rating'].mean().reset_index(name='Average Normalized Rating')\n",
    "print(user_norm_avg)\n",
    "\n",
    "movie_norm_avg = normalized_df.groupby('Movie')['Normalized Rating'].mean().reset_index(name='Average Normalized Rating')\n",
    "print(movie_norm_avg)"
   ]
  },
  {
   "cell_type": "markdown",
   "metadata": {},
   "source": [
    "Text-Based Conclusion\n",
    "\n",
    "Advantages of Normalized Ratings:\n",
    "\n",
    "Reduces bias from users who rate consistently high or low.\n",
    "\n",
    "Provides a more standardized comparison between ratings.\n",
    "\n",
    "Disadvantages of Normalized Ratings:\n",
    "\n",
    "Can obscure absolute preferences (e.g., a normalized 0 doesn’t indicate like/dislike).\n",
    "\n",
    "May become less intuitive for users to understand.\n",
    "\n",
    "Step 6: Standardized Ratings (Extra Credit)\n",
    "\n",
    "Standardize the ratings:"
   ]
  },
  {
   "cell_type": "code",
   "execution_count": 12,
   "metadata": {},
   "outputs": [
    {
     "name": "stdout",
     "output_type": "stream",
     "text": [
      "      User            Movie  Rating  Normalized Rating  Standardized Rating\n",
      "0    Alice        Inception       4           0.000000             0.000000\n",
      "1    Alice       The Matrix       5           1.000000             1.000000\n",
      "2    Alice     Interstellar       3          -1.000000            -1.000000\n",
      "3      Bob        Inception       3          -1.000000            -1.000000\n",
      "4      Bob       The Matrix       4           0.000000             0.000000\n",
      "5      Bob  The Dark Knight       5           1.000000             1.000000\n",
      "6  Charlie        Inception       2          -0.707107            -0.707107\n",
      "7  Charlie     Interstellar       4           0.707107             0.707107\n",
      "      User  Average Standardized Rating\n",
      "0    Alice                          0.0\n",
      "1      Bob                          0.0\n",
      "2  Charlie                          0.0\n",
      "             Movie  Average Standardized Rating\n",
      "0        Inception                    -0.569036\n",
      "1     Interstellar                    -0.146447\n",
      "2  The Dark Knight                     1.000000\n",
      "3       The Matrix                     0.500000\n"
     ]
    }
   ],
   "source": [
    "# Standardize ratings for each user (z-score normalization)\n",
    "df['Standardized Rating'] = df.groupby('User')['Rating'].transform(lambda x: (x - x.mean()) / x.std())\n",
    "print(df)\n",
    "\n",
    "# New dataframe with standardized ratings\n",
    "standardized_df = df[['User', 'Movie', 'Standardized Rating']]\n",
    "\n",
    "# Average standardized ratings\n",
    "user_std_avg = standardized_df.groupby('User')['Standardized Rating'].mean().reset_index(name='Average Standardized Rating')\n",
    "print(user_std_avg)\n",
    "\n",
    "movie_std_avg = standardized_df.groupby('Movie')['Standardized Rating'].mean().reset_index(name='Average Standardized Rating')\n",
    "print(movie_std_avg)"
   ]
  },
  {
   "cell_type": "code",
   "execution_count": 13,
   "metadata": {},
   "outputs": [
    {
     "name": "stdout",
     "output_type": "stream",
     "text": [
      "DataFrame Loaded:\n",
      "      User            Movie  Rating\n",
      "0    Alice        Inception       4\n",
      "1    Alice       The Matrix       5\n",
      "2    Alice     Interstellar       3\n",
      "3      Bob        Inception       3\n",
      "4      Bob       The Matrix       4\n",
      "5      Bob  The Dark Knight       5\n",
      "6  Charlie        Inception       2\n",
      "7  Charlie     Interstellar       4\n",
      "Average Ratings by User:\n",
      "      User  Average Rating\n",
      "0    Alice             4.0\n",
      "1      Bob             4.0\n",
      "2  Charlie             3.0\n",
      "Average Ratings by Movie:\n",
      "             Movie  Average Rating\n",
      "0        Inception             3.0\n",
      "1     Interstellar             3.5\n",
      "2  The Dark Knight             5.0\n",
      "3       The Matrix             4.5\n"
     ]
    },
    {
     "data": {
      "image/png": "[encoded data removed]",
      "text/plain": [
       "<Figure size 1200x800 with 1 Axes>"
      ]
     },
     "metadata": {},
     "output_type": "display_data"
    }
   ],
   "source": [
    "import pandas as pd\n",
    "import matplotlib.pyplot as plt\n",
    "\n",
    "# Load the data from the CSV file\n",
    "df = pd.read_csv('movie_ratings.csv')\n",
    "print(\"DataFrame Loaded:\")\n",
    "print(df)\n",
    "\n",
    "# Calculate average ratings for each user\n",
    "user_avg = df.groupby('User')['Rating'].mean().reset_index(name='Average Rating')\n",
    "print(\"Average Ratings by User:\")\n",
    "print(user_avg)\n",
    "\n",
    "# Calculate average ratings for each movie\n",
    "movie_avg = df.groupby('Movie')['Rating'].mean().reset_index(name='Average Rating')\n",
    "print(\"Average Ratings by Movie:\")\n",
    "print(movie_avg)\n",
    "\n",
    "# Create the plot\n",
    "fig, ax = plt.subplots(figsize=(12, 8))\n",
    "\n",
    "# Plot individual user ratings\n",
    "for user in df['User'].unique():\n",
    "    user_data = df[df['User'] == user]\n",
    "    ax.plot(user_data['Movie'], user_data['Rating'], marker='o', linestyle='', label=f'{user} Ratings')\n",
    "\n",
    "# Plot average ratings by user\n",
    "user_avg.plot(kind='bar', x='User', y='Average Rating', ax=ax, color='skyblue', position=1, width=0.4, legend=True)\n",
    "\n",
    "# Plot average ratings by movie\n",
    "movie_avg.plot(kind='bar', x='Movie', y='Average Rating', ax=ax, color='orange', position=0, width=0.4, legend=True)\n",
    "\n",
    "# Customize chart\n",
    "ax.set_title('Average and Individual Ratings by User and Movie')\n",
    "ax.set_xlabel('User / Movie')\n",
    "ax.set_ylabel('Rating')\n",
    "ax.legend()\n",
    "\n",
    "# Show the plot\n",
    "plt.show()"
   ]
  }
 ],
 "metadata": {
  "kernelspec": {
   "display_name": "Python 3",
   "language": "python",
   "name": "python3"
  },
  "language_info": {
   "codemirror_mode": {
    "name": "ipython",
    "version": 3
   },
   "file_extension": ".py",
   "mimetype": "text/x-python",
   "name": "python",
   "nbconvert_exporter": "python",
   "pygments_lexer": "ipython3",
   "version": "3.12.7"
  }
 },
 "nbformat": 4,
 "nbformat_minor": 2
}
